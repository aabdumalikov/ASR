{
 "cells": [
  {
   "cell_type": "code",
   "execution_count": 1,
   "metadata": {},
   "outputs": [
    {
     "name": "stdout",
     "output_type": "stream",
     "text": [
      "Defaulting to user installation because normal site-packages is not writeable\n",
      "Requirement already satisfied: selenium in /var/data/python/lib/python3.11/site-packages (4.20.0)\n",
      "Requirement already satisfied: urllib3<3,>=1.26 in /var/data/python/lib/python3.11/site-packages (from urllib3[socks]<3,>=1.26->selenium) (2.2.1)\n",
      "Requirement already satisfied: trio~=0.17 in /var/data/python/lib/python3.11/site-packages (from selenium) (0.25.0)\n",
      "Requirement already satisfied: trio-websocket~=0.9 in /var/data/python/lib/python3.11/site-packages (from selenium) (0.11.1)\n",
      "Requirement already satisfied: certifi>=2021.10.8 in /var/data/python/lib/python3.11/site-packages (from selenium) (2024.2.2)\n",
      "Requirement already satisfied: typing_extensions>=4.9.0 in /var/data/python/lib/python3.11/site-packages (from selenium) (4.10.0)\n",
      "Requirement already satisfied: attrs>=23.2.0 in /var/data/python/lib/python3.11/site-packages (from trio~=0.17->selenium) (23.2.0)\n",
      "Requirement already satisfied: sortedcontainers in /var/data/python/lib/python3.11/site-packages (from trio~=0.17->selenium) (2.4.0)\n",
      "Requirement already satisfied: idna in /var/data/python/lib/python3.11/site-packages (from trio~=0.17->selenium) (3.6)\n",
      "Requirement already satisfied: outcome in /var/data/python/lib/python3.11/site-packages (from trio~=0.17->selenium) (1.3.0.post0)\n",
      "Requirement already satisfied: sniffio>=1.3.0 in /var/data/python/lib/python3.11/site-packages (from trio~=0.17->selenium) (1.3.1)\n",
      "Requirement already satisfied: wsproto>=0.14 in /var/data/python/lib/python3.11/site-packages (from trio-websocket~=0.9->selenium) (1.2.0)\n",
      "Requirement already satisfied: pysocks!=1.5.7,<2.0,>=1.5.6 in /var/data/python/lib/python3.11/site-packages (from urllib3[socks]<3,>=1.26->selenium) (1.7.1)\n",
      "Requirement already satisfied: h11<1,>=0.9.0 in /var/data/python/lib/python3.11/site-packages (from wsproto>=0.14->trio-websocket~=0.9->selenium) (0.14.0)\n",
      "Note: you may need to restart the kernel to use updated packages.\n",
      "Defaulting to user installation because normal site-packages is not writeable\n",
      "Requirement already satisfied: bs4 in /var/data/python/lib/python3.11/site-packages (0.0.2)\n",
      "Requirement already satisfied: beautifulsoup4 in /var/data/python/lib/python3.11/site-packages (from bs4) (4.12.3)\n",
      "Requirement already satisfied: soupsieve>1.2 in /var/data/python/lib/python3.11/site-packages (from beautifulsoup4->bs4) (2.5)\n",
      "Note: you may need to restart the kernel to use updated packages.\n"
     ]
    }
   ],
   "source": [
    "\n",
    "%pip install selenium\n",
    "%pip install bs4"
   ]
  },
  {
   "cell_type": "code",
   "execution_count": 2,
   "metadata": {},
   "outputs": [],
   "source": [
    "\n",
    "from selenium import webdriver\n",
    "from selenium.webdriver.common.by import By\n",
    "from bs4 import BeautifulSoup\n",
    "import requests\n",
    "import pandas as pd\n",
    "import numpy as np\n",
    "from selenium.webdriver.support.ui import WebDriverWait\n",
    "from selenium.webdriver.support import expected_conditions as EC\n",
    "import time"
   ]
  },
  {
   "cell_type": "code",
   "execution_count": 3,
   "metadata": {},
   "outputs": [],
   "source": [
    "driver = webdriver.Firefox()\n",
    "driver.maximize_window()"
   ]
  },
  {
   "cell_type": "code",
   "execution_count": 4,
   "metadata": {},
   "outputs": [],
   "source": [
    "driver.get(\"https://lyricstranslate.com/en/language/uzbek?t=lyrics\")"
   ]
  },
  {
   "cell_type": "code",
   "execution_count": 5,
   "metadata": {},
   "outputs": [],
   "source": [
    "driver.execute_script(\"window.scrollTo(0, document.body.scrollHeight);\")"
   ]
  },
  {
   "cell_type": "code",
   "execution_count": 6,
   "metadata": {},
   "outputs": [],
   "source": [
    "urls = [\n",
    "    'https://lyricstranslate.com/en/language/uzbek?t=lyrics',\n",
    "    'https://lyricstranslate.com/en/language/uzbek-lyrics-page-1',\n",
    "    'https://lyricstranslate.com/en/language/uzbek-lyrics-page-2',\n",
    "    'https://lyricstranslate.com/en/language/uzbek-lyrics-page-3',\n",
    "    'https://lyricstranslate.com/en/language/uzbek-lyrics-page-4',\n",
    "    'https://lyricstranslate.com/en/language/uzbek-lyrics-page-5',\n",
    "    'https://lyricstranslate.com/en/language/uzbek-lyrics-page-6',\n",
    "    'https://lyricstranslate.com/en/language/uzbek-lyrics-page-7',\n",
    "    'https://lyricstranslate.com/en/language/uzbek-lyrics-page-8',\n",
    "    'https://lyricstranslate.com/en/language/uzbek-lyrics-page-9'\n",
    "]"
   ]
  },
  {
   "cell_type": "code",
   "execution_count": 7,
   "metadata": {},
   "outputs": [
    {
     "name": "stdout",
     "output_type": "stream",
     "text": [
      "per vine\n"
     ]
    }
   ],
   "source": [
    "def per_music_url(driver):\n",
    "    # print(\"per vine\")\n",
    "    urls = []\n",
    "    html_content = driver.page_source\n",
    "    soup = BeautifulSoup(html_content, 'html.parser')\n",
    "    rows = soup.find_all('div', class_=\"s-s\")\n",
    "    for row in rows:\n",
    "        link = f\"https://lyricstranslate.com{row.select_one('a')['href']}\"\n",
    "        urls.append(link)\n",
    "    return urls\n",
    "\n",
    "per_music = per_music_url(driver=driver)\n",
    "# for i in per_music:\n",
    "#     print(i)"
   ]
  },
  {
   "cell_type": "code",
   "execution_count": 8,
   "metadata": {},
   "outputs": [],
   "source": [
    "repos = list()\n",
    "\n",
    "youtube_links = list()\n",
    "\n",
    "def data_collect(content):   \n",
    "    \n",
    "    big_data = {'Transcription':''}\n",
    "\n",
    "    youtube_link = {'Links':''}\n",
    "\n",
    "    try:\n",
    "        big_data['Transcription'] = content.find(\"div\", class_=\"ltf\").text\n",
    "    except:\n",
    "        big_data['Transcription'] = np.nan\n",
    "\n",
    "    links = content.find_all('a', href=lambda href: href and 'youtube.com' in href)\n",
    "\n",
    "    # Extract just the URLs from the anchor tags\n",
    "    youtube_urls = [link['href'] for link in links]\n",
    "\n",
    "    # Print all YouTube links\n",
    "    for link in youtube_urls:\n",
    "        youtube_link['Links'] = link\n",
    "\n",
    "    youtube_links.append(youtube_link)\n",
    "\n",
    "    # repos.append(big_data)"
   ]
  },
  {
   "cell_type": "code",
   "execution_count": 9,
   "metadata": {},
   "outputs": [],
   "source": [
    "def enter_each_url(urls):\n",
    "    for url in urls:\n",
    "        # print(url)\n",
    "        response = requests.get(url)\n",
    "        soup = BeautifulSoup(response.content, 'html.parser')\n",
    "        data_collect(soup)\n",
    "\n",
    "# enter_each_url(vine_urls)"
   ]
  },
  {
   "cell_type": "code",
   "execution_count": null,
   "metadata": {},
   "outputs": [],
   "source": [
    "for url in urls:\n",
    "    # print(url)\n",
    "    driver.get(url)\n",
    "    driver.execute_script(\"window.scrollTo(0, document.body.scrollHeight);\")\n",
    "    time.sleep(1)\n",
    "                \n",
    "    vine_urls = per_music_url(driver=driver)\n",
    "    enter_each_url(vine_urls)"
   ]
  },
  {
   "cell_type": "code",
   "execution_count": 11,
   "metadata": {},
   "outputs": [],
   "source": [
    "\n",
    "df = pd.DataFrame.from_dict(repos)\n",
    "df2 = pd.DataFrame.from_dict(youtube_links) "
   ]
  },
  {
   "cell_type": "code",
   "execution_count": 12,
   "metadata": {},
   "outputs": [],
   "source": [
    "df.to_csv('dataset.csv', index=False)\n",
    "df2.to_csv('youtube_links.csv', index=False)"
   ]
  },
  {
   "cell_type": "code",
   "execution_count": null,
   "metadata": {},
   "outputs": [],
   "source": [
    "df.shape\n",
    "df2.shape"
   ]
  },
  {
   "cell_type": "code",
   "execution_count": null,
   "metadata": {},
   "outputs": [],
   "source": []
  }
 ],
 "metadata": {
  "kernelspec": {
   "display_name": "Python 3",
   "language": "python",
   "name": "python3"
  },
  "language_info": {
   "codemirror_mode": {
    "name": "ipython",
    "version": 3
   },
   "file_extension": ".py",
   "mimetype": "text/x-python",
   "name": "python",
   "nbconvert_exporter": "python",
   "pygments_lexer": "ipython3",
   "version": "3.11.8"
  }
 },
 "nbformat": 4,
 "nbformat_minor": 2
}
